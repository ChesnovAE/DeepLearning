{
 "cells": [
  {
   "cell_type": "code",
   "execution_count": 14,
   "metadata": {},
   "outputs": [],
   "source": [
    "import os\n",
    "\n",
    "import numpy as np\n",
    "import pandas as pd\n",
    "\n",
    "import matplotlib.pyplot as plt\n",
    "\n",
    "\n",
    "from keras.models import Sequential\n",
    "from keras.layers import Conv2D, MaxPooling2D, Flatten, Dense\n",
    "from keras.preprocessing import image\n",
    "from keras.preprocessing.image import ImageDataGenerator"
   ]
  },
  {
   "cell_type": "code",
   "execution_count": 3,
   "metadata": {},
   "outputs": [],
   "source": [
    "def build_network():\n",
    "    classifier = Sequential()\n",
    "    classifier.add(Conv2D(32, (3, 3), input_shape=(64,64,3), activation='relu'))\n",
    "    classifier.add(MaxPooling2D(pool_size=(2,2)))\n",
    "    classifier.add(Conv2D(32, (3, 3), activation='relu'))\n",
    "    classifier.add(MaxPooling2D(pool_size=(2,2)))\n",
    "    classifier.add(Flatten())\n",
    "    classifier.add(Dense(128, activation='relu'))\n",
    "    classifier.add(Dense(1, activation='sigmoid'))\n",
    "    classifier.compile(optimizer='adam', loss='binary_crossentropy', metrics=['accuracy'])\n",
    "    return classifier"
   ]
  },
  {
   "cell_type": "code",
   "execution_count": 5,
   "metadata": {},
   "outputs": [],
   "source": [
    "train_processor = ImageDataGenerator(rescale=1./255, # нормируем\n",
    "                                     shear_range=0.2, # поворачиваем\n",
    "                                     zoom_range=0.2, # зуммируем\n",
    "                                     horizontal_flip=True) # рандомно транспорнируем?\n",
    "test_processor = ImageDataGenerator(rescale=1./255)"
   ]
  },
  {
   "cell_type": "code",
   "execution_count": 7,
   "metadata": {},
   "outputs": [
    {
     "data": {
      "text/plain": [
       "['.DS_Store',\n",
       " 'dataset',\n",
       " 'conv_with_keras.ipynb',\n",
       " 'cnn.py',\n",
       " '.ipynb_checkpoints',\n",
       " 'cnn_homework_solution.py']"
      ]
     },
     "execution_count": 7,
     "metadata": {},
     "output_type": "execute_result"
    }
   ],
   "source": [
    "os.listdir()"
   ]
  },
  {
   "cell_type": "code",
   "execution_count": 8,
   "metadata": {},
   "outputs": [
    {
     "name": "stdout",
     "output_type": "stream",
     "text": [
      "Found 8000 images belonging to 2 classes.\n",
      "Found 2000 images belonging to 2 classes.\n"
     ]
    }
   ],
   "source": [
    "train = train_processor.flow_from_directory('dataset/training_set',\n",
    "                                            target_size=(64,64),\n",
    "                                            batch_size=32,\n",
    "                                            class_mode='binary')\n",
    "test = train_processor.flow_from_directory('dataset/test_set',\n",
    "                                           target_size=(64,64),\n",
    "                                           batch_size=32,\n",
    "                                           class_mode='binary')"
   ]
  },
  {
   "cell_type": "code",
   "execution_count": 11,
   "metadata": {},
   "outputs": [],
   "source": [
    "classifier = build_network()"
   ]
  },
  {
   "cell_type": "code",
   "execution_count": 13,
   "metadata": {},
   "outputs": [
    {
     "name": "stdout",
     "output_type": "stream",
     "text": [
      "Epoch 1/25\n",
      "100/100 [==============================] - 38s 375ms/step - loss: 0.6522 - accuracy: 0.6184 - val_loss: 0.6448 - val_accuracy: 0.6656\n",
      "Epoch 2/25\n",
      "100/100 [==============================] - 35s 354ms/step - loss: 0.6355 - accuracy: 0.6478 - val_loss: 0.6147 - val_accuracy: 0.6906\n",
      "Epoch 3/25\n",
      "100/100 [==============================] - 34s 338ms/step - loss: 0.6139 - accuracy: 0.6597 - val_loss: 0.5374 - val_accuracy: 0.6719\n",
      "Epoch 4/25\n",
      "100/100 [==============================] - 32s 316ms/step - loss: 0.5820 - accuracy: 0.6903 - val_loss: 0.6280 - val_accuracy: 0.6811\n",
      "Epoch 5/25\n",
      "100/100 [==============================] - 30s 303ms/step - loss: 0.5710 - accuracy: 0.6988 - val_loss: 0.5423 - val_accuracy: 0.6875\n",
      "Epoch 6/25\n",
      "100/100 [==============================] - 30s 303ms/step - loss: 0.5447 - accuracy: 0.7191 - val_loss: 0.6421 - val_accuracy: 0.6844\n",
      "Epoch 7/25\n",
      "100/100 [==============================] - 31s 312ms/step - loss: 0.5507 - accuracy: 0.7181 - val_loss: 0.4147 - val_accuracy: 0.7228\n",
      "Epoch 8/25\n",
      "100/100 [==============================] - 30s 299ms/step - loss: 0.5186 - accuracy: 0.7416 - val_loss: 0.4942 - val_accuracy: 0.7031\n",
      "Epoch 9/25\n",
      "100/100 [==============================] - 30s 304ms/step - loss: 0.5202 - accuracy: 0.7419 - val_loss: 0.6211 - val_accuracy: 0.7375\n",
      "Epoch 10/25\n",
      "100/100 [==============================] - 31s 310ms/step - loss: 0.4975 - accuracy: 0.7509 - val_loss: 0.4564 - val_accuracy: 0.7772\n",
      "Epoch 11/25\n",
      "100/100 [==============================] - 30s 301ms/step - loss: 0.4979 - accuracy: 0.7481 - val_loss: 0.5097 - val_accuracy: 0.7297\n",
      "Epoch 12/25\n",
      "100/100 [==============================] - 30s 301ms/step - loss: 0.4868 - accuracy: 0.7625 - val_loss: 0.5801 - val_accuracy: 0.7469\n",
      "Epoch 13/25\n",
      "100/100 [==============================] - 30s 301ms/step - loss: 0.4977 - accuracy: 0.7603 - val_loss: 0.3437 - val_accuracy: 0.7612\n",
      "Epoch 14/25\n",
      "100/100 [==============================] - 30s 303ms/step - loss: 0.4861 - accuracy: 0.7647 - val_loss: 0.5007 - val_accuracy: 0.7641\n",
      "Epoch 15/25\n",
      "100/100 [==============================] - 30s 303ms/step - loss: 0.4671 - accuracy: 0.7741 - val_loss: 0.4430 - val_accuracy: 0.7375\n",
      "Epoch 16/25\n",
      "100/100 [==============================] - 32s 324ms/step - loss: 0.4557 - accuracy: 0.7788 - val_loss: 0.5625 - val_accuracy: 0.7596\n",
      "Epoch 17/25\n",
      "100/100 [==============================] - 36s 363ms/step - loss: 0.4864 - accuracy: 0.7575 - val_loss: 0.3948 - val_accuracy: 0.7766\n",
      "Epoch 18/25\n",
      "100/100 [==============================] - 32s 323ms/step - loss: 0.4438 - accuracy: 0.7812 - val_loss: 0.5067 - val_accuracy: 0.7766\n",
      "Epoch 19/25\n",
      "100/100 [==============================] - 36s 361ms/step - loss: 0.4508 - accuracy: 0.7819 - val_loss: 0.5682 - val_accuracy: 0.7628\n",
      "Epoch 20/25\n",
      "100/100 [==============================] - 34s 337ms/step - loss: 0.4348 - accuracy: 0.7881 - val_loss: 0.4884 - val_accuracy: 0.7406\n",
      "Epoch 21/25\n",
      "100/100 [==============================] - 34s 340ms/step - loss: 0.4226 - accuracy: 0.8050 - val_loss: 0.5255 - val_accuracy: 0.7812\n",
      "Epoch 22/25\n",
      "100/100 [==============================] - 33s 332ms/step - loss: 0.4257 - accuracy: 0.8041 - val_loss: 0.6433 - val_accuracy: 0.7688\n",
      "Epoch 23/25\n",
      "100/100 [==============================] - 36s 363ms/step - loss: 0.4437 - accuracy: 0.7934 - val_loss: 0.5364 - val_accuracy: 0.7612\n",
      "Epoch 24/25\n",
      "100/100 [==============================] - 31s 315ms/step - loss: 0.4196 - accuracy: 0.8025 - val_loss: 0.4367 - val_accuracy: 0.7672\n",
      "Epoch 25/25\n",
      "100/100 [==============================] - 37s 366ms/step - loss: 0.4101 - accuracy: 0.8122 - val_loss: 0.3674 - val_accuracy: 0.7578\n"
     ]
    },
    {
     "data": {
      "text/plain": [
       "<keras.callbacks.callbacks.History at 0x1330f7250>"
      ]
     },
     "execution_count": 13,
     "metadata": {},
     "output_type": "execute_result"
    }
   ],
   "source": [
    "classifier.fit_generator(train,\n",
    "                         steps_per_epoch=100,\n",
    "                         epochs=25,\n",
    "                         validation_data=test,\n",
    "                         validation_steps=20)"
   ]
  },
  {
   "cell_type": "code",
   "execution_count": 19,
   "metadata": {},
   "outputs": [],
   "source": [
    "test_image = image.load_img('dataset/single_prediction/cat_or_dog_1.jpg', target_size=(64,64))"
   ]
  },
  {
   "cell_type": "code",
   "execution_count": 20,
   "metadata": {},
   "outputs": [],
   "source": [
    "test_image = image.img_to_array(test_image)"
   ]
  },
  {
   "cell_type": "code",
   "execution_count": 21,
   "metadata": {},
   "outputs": [
    {
     "data": {
      "text/plain": [
       "(64, 64, 3)"
      ]
     },
     "execution_count": 21,
     "metadata": {},
     "output_type": "execute_result"
    }
   ],
   "source": [
    "test_image.shape"
   ]
  },
  {
   "cell_type": "code",
   "execution_count": 22,
   "metadata": {},
   "outputs": [],
   "source": [
    "test_image = np.expand_dims(test_image, axis=0) # добавляем размерность для батча"
   ]
  },
  {
   "cell_type": "code",
   "execution_count": 24,
   "metadata": {},
   "outputs": [],
   "source": [
    "result = classifier.predict(test_image)"
   ]
  },
  {
   "cell_type": "code",
   "execution_count": 25,
   "metadata": {},
   "outputs": [
    {
     "data": {
      "text/plain": [
       "array([[1.]], dtype=float32)"
      ]
     },
     "execution_count": 25,
     "metadata": {},
     "output_type": "execute_result"
    }
   ],
   "source": [
    "result"
   ]
  },
  {
   "cell_type": "code",
   "execution_count": 26,
   "metadata": {},
   "outputs": [
    {
     "data": {
      "text/plain": [
       "{'cats': 0, 'dogs': 1}"
      ]
     },
     "execution_count": 26,
     "metadata": {},
     "output_type": "execute_result"
    }
   ],
   "source": [
    "train.class_indices"
   ]
  },
  {
   "cell_type": "code",
   "execution_count": 27,
   "metadata": {},
   "outputs": [
    {
     "name": "stdout",
     "output_type": "stream",
     "text": [
      "Dog\n"
     ]
    }
   ],
   "source": [
    "if result[0, 0] == 1:\n",
    "    print('Dog')\n",
    "else:\n",
    "    print('Cat')"
   ]
  },
  {
   "cell_type": "code",
   "execution_count": null,
   "metadata": {},
   "outputs": [],
   "source": []
  }
 ],
 "metadata": {
  "kernelspec": {
   "display_name": "Python 3.7.5 64-bit",
   "language": "python",
   "name": "python37564bitac641723bb38424994ea6184b3743d2f"
  },
  "language_info": {
   "codemirror_mode": {
    "name": "ipython",
    "version": 3
   },
   "file_extension": ".py",
   "mimetype": "text/x-python",
   "name": "python",
   "nbconvert_exporter": "python",
   "pygments_lexer": "ipython3",
   "version": "3.7.5"
  }
 },
 "nbformat": 4,
 "nbformat_minor": 2
}
